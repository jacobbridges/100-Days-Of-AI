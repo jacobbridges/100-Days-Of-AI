{
 "cells": [
  {
   "cell_type": "markdown",
   "metadata": {},
   "source": [
    "# Cleanup Podcast Transcripts\n",
    "\n",
    "Sometimes, when the spaker in the podcast is talking quickly, the base whisper model will transcribe a very long run-on sentence. This becomes difficult to chunk and send to an LLM since my usual method involves splitting on the period character.\n",
    "\n",
    "I use [fullstop-punctuation-multilang-large](https://huggingface.co/oliverguhr/fullstop-punctuation-multilang-large) from huggingface to cleanup the punctuation from the podcast transcript. It is not perfect, but using an LLM for this task felt like over-engineering."
   ]
  },
  {
   "cell_type": "code",
   "execution_count": null,
   "metadata": {},
   "outputs": [],
   "source": [
    "!pip install deepmultilingualpunctuation"
   ]
  },
  {
   "cell_type": "code",
   "execution_count": 1,
   "metadata": {},
   "outputs": [],
   "source": [
    "CONFIG = {\n",
    "    \"podcast\": {\n",
    "        \"rss_url\": \"https://anchor.fm/s/74aab30/podcast/rss\",\n",
    "        \"summary_regex\": r\"<p>(?P<speaker>[\\w\\s]+)\\s-\\s(?P<reference>.*)<\\/p>\",\n",
    "    },\n",
    "    \"output_dir\": \"media\",\n",
    "}"
   ]
  },
  {
   "cell_type": "code",
   "execution_count": null,
   "metadata": {},
   "outputs": [],
   "source": [
    "from pathlib import Path\n",
    "from deepmultilingualpunctuation import PunctuationModel\n",
    "\n",
    "model = PunctuationModel(model=\"oliverguhr/fullstop-punctuation-multilang-large\")\n",
    "for transcript_file in Path(CONFIG[\"output_dir\"]).glob(\"**/transcript.txt\"):\n",
    "    transcript = transcript_file.read_text()\n",
    "    with_punctuation = model.restore_punctuation(transcript)\n",
    "    transcript_with_puncutation_file = transcript_file.parent / \"transcript_with_punctuation.txt\"\n",
    "    transcript_with_puncutation_file.write_text(with_punctuation)"
   ]
  }
 ],
 "metadata": {
  "kernelspec": {
   "display_name": "venv",
   "language": "python",
   "name": "python3"
  },
  "language_info": {
   "codemirror_mode": {
    "name": "ipython",
    "version": 3
   },
   "file_extension": ".py",
   "mimetype": "text/x-python",
   "name": "python",
   "nbconvert_exporter": "python",
   "pygments_lexer": "ipython3",
   "version": "3.11.6"
  }
 },
 "nbformat": 4,
 "nbformat_minor": 2
}
