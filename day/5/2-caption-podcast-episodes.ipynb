{
 "cells": [
  {
   "cell_type": "markdown",
   "metadata": {},
   "source": [
    "# Caption Podcast Episodes\n",
    "\n",
    "After downloading the podcast episodes into an organized directory in [lesson 1](./1-download-podcasts.ipynb), I use the whisper model to transcribe each episode.\n",
    "\n",
    "> 🌧 Quick note! I use the \"base\" whisper model because it runs on my local machine. There are more powerful versions of the whisper model which could produce higher quality outputs. See [this list of Whisper models](https://github.com/openai/whisper?tab=readme-ov-file#available-models-and-languages) and pick what works best for you. "
   ]
  },
  {
   "cell_type": "code",
   "execution_count": null,
   "metadata": {},
   "outputs": [],
   "source": [
    "# Install the latest version from github\n",
    "!pip install git+https://github.com/openai/whisper.git "
   ]
  },
  {
   "cell_type": "code",
   "execution_count": 2,
   "metadata": {},
   "outputs": [],
   "source": [
    "import whisper\n",
    "from pathlib import Path\n",
    "\n",
    "model = whisper.load_model(\"base\")\n",
    "media_dir = Path(\"media\")"
   ]
  },
  {
   "cell_type": "code",
   "execution_count": 33,
   "metadata": {},
   "outputs": [
    {
     "name": "stdout",
     "output_type": "stream",
     "text": [
      ":: media\\2019-01-13 Blessed In Poverty and Mourning\\2019-01-13 Blessed In Poverty and Mourning.mp3\n",
      "   - Begin transcription\n",
      "   - End transcription\n",
      "   - Transcription written to media\\2019-01-13 Blessed In Poverty and Mourning\\transcript.txt\n",
      ":: media\\2019-01-20 Blessed The Meek\\2019-01-20 Blessed The Meek.mp3\n",
      "   - Begin transcription\n",
      "   - End transcription\n",
      "   - Transcription written to media\\2019-01-20 Blessed The Meek\\transcript.txt\n",
      ":: media\\2019-01-27 Blessed In Hunger and Thirst\\2019-01-27 Blessed In Hunger and Thirst.mp3\n",
      "   - Begin transcription\n",
      "   - End transcription\n",
      "   - Transcription written to media\\2019-01-27 Blessed In Hunger and Thirst\\transcript.txt\n",
      ":: media\\2019-02-10 Blessed The Merciful\\2019-02-10 Blessed The Merciful.mp3\n",
      "   - Begin transcription\n",
      "   - End transcription\n",
      "   - Transcription written to media\\2019-02-10 Blessed The Merciful\\transcript.txt\n",
      ":: media\\2019-02-24 Blessed The Pure in Heart\\2019-02-24 Blessed The Pure in Heart.mp3\n",
      "   - Begin transcription\n",
      "   - End transcription\n",
      "   - Transcription written to media\\2019-02-24 Blessed The Pure in Heart\\transcript.txt\n",
      ":: media\\2019-03-03 Blessed The Peacemakers\\2019-03-03 Blessed The Peacemakers.mp3\n",
      "   - Begin transcription\n",
      "   - End transcription\n",
      "   - Transcription written to media\\2019-03-03 Blessed The Peacemakers\\transcript.txt\n",
      ":: media\\2022-10-23 Kingdom Suffering (To the Church in Smyrna)\\2022-10-23 Kingdom Suffering (To the Church in Smyrna).mp3\n",
      "   - Begin transcription\n",
      "   - End transcription\n",
      "   - Transcription written to media\\2022-10-23 Kingdom Suffering (To the Church in Smyrna)\\transcript.txt\n",
      ":: media\\2023-07-09 Stress The Tyranny of the Urgent\\2023-07-09 Stress The Tyranny of the Urgent.mp3\n",
      "   - Begin transcription\n",
      "   - End transcription\n",
      "   - Transcription written to media\\2023-07-09 Stress The Tyranny of the Urgent\\transcript.txt\n"
     ]
    }
   ],
   "source": [
    "for mp3_path in media_dir.rglob(\"**/*.mp3\"):\n",
    "    episode_dir = mp3_path.parent\n",
    "    transcript_path = episode_dir / \"transcript.txt\"\n",
    "    if transcript_path.exists():\n",
    "        continue\n",
    "    print(f\":: {mp3_path}\")\n",
    "    print(f\"   - Begin transcription\")\n",
    "    transcript = model.transcribe(mp3_path.as_posix())\n",
    "    print(f\"   - End transcription\")\n",
    "    transcript_path.write_text(transcript[\"text\"], encoding=\"utf-8\")\n",
    "    print(f\"   - Transcription written to {transcript_path}\")"
   ]
  }
 ],
 "metadata": {
  "kernelspec": {
   "display_name": "venv",
   "language": "python",
   "name": "python3"
  },
  "language_info": {
   "codemirror_mode": {
    "name": "ipython",
    "version": 3
   },
   "file_extension": ".py",
   "mimetype": "text/x-python",
   "name": "python",
   "nbconvert_exporter": "python",
   "pygments_lexer": "ipython3",
   "version": "3.11.6"
  }
 },
 "nbformat": 4,
 "nbformat_minor": 2
}
