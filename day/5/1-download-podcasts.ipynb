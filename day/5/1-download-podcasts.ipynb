{
 "cells": [
  {
   "cell_type": "markdown",
   "metadata": {},
   "source": [
    "# Download Podcast Episodes\n",
    "\n",
    "The first step of summarizing podcast episodes is to download them. This notebook contains no generative AI content, only Python things."
   ]
  },
  {
   "cell_type": "code",
   "execution_count": null,
   "metadata": {},
   "outputs": [],
   "source": [
    "!pip install feedparser\n",
    "!pip install pytz"
   ]
  },
  {
   "cell_type": "markdown",
   "metadata": {},
   "source": [
    "## Define the CONFIG\n",
    "\n",
    "This config dictionary contains information about which podcast is being transcribed. It also has some fields which can be tweaked according to your use case.\n",
    "\n",
    "I tried to abstract some things to make it easy to implement this project on your podcast of choice, but in the end this is an example project for learning. Everything here can be improved upon!"
   ]
  },
  {
   "cell_type": "code",
   "execution_count": 10,
   "metadata": {},
   "outputs": [],
   "source": [
    "CONFIG = {\n",
    "    \"podcast\": {\n",
    "        \"rss_url\": \"https://anchor.fm/s/74aab30/podcast/rss\",\n",
    "        \"summary_regex\": r\"<p>(?P<speaker>[\\w\\s]+)\\s-\\s(?P<reference>.*)<\\/p>\",\n",
    "    },\n",
    "    \"output_dir\": \"media\",\n",
    "}"
   ]
  },
  {
   "cell_type": "markdown",
   "metadata": {},
   "source": [
    "## Get the RSS feed for the podcast\n",
    "\n",
    "Show the structure of one item in the feed."
   ]
  },
  {
   "cell_type": "code",
   "execution_count": 11,
   "metadata": {},
   "outputs": [
    {
     "data": {
      "text/plain": [
       "{'title': 'Bearing Burdens',\n",
       " 'title_detail': {'type': 'text/plain',\n",
       "  'language': None,\n",
       "  'base': 'https://anchor.fm/s/74aab30/podcast/rss',\n",
       "  'value': 'Bearing Burdens'},\n",
       " 'summary': '<p>Chris Price - Galatians 6:1-5</p>',\n",
       " 'summary_detail': {'type': 'text/html',\n",
       "  'language': None,\n",
       "  'base': 'https://anchor.fm/s/74aab30/podcast/rss',\n",
       "  'value': '<p>Chris Price - Galatians 6:1-5</p>'},\n",
       " 'links': [{'rel': 'alternate',\n",
       "   'type': 'text/html',\n",
       "   'href': 'https://podcasters.spotify.com/pod/show/providence-fellowship/episodes/Bearing-Burdens-e2eogit'},\n",
       "  {'length': '35724141',\n",
       "   'type': 'audio/mpeg',\n",
       "   'href': 'https://anchor.fm/s/74aab30/podcast/play/81592349/https%3A%2F%2Fd3ctxlq1ktw2nl.cloudfront.net%2Fstaging%2F2024-0-21%2F34f870d4-0747-b973-19b3-67401ecc891b.mp3',\n",
       "   'rel': 'enclosure'}],\n",
       " 'link': 'https://podcasters.spotify.com/pod/show/providence-fellowship/episodes/Bearing-Burdens-e2eogit',\n",
       " 'id': '62e6dc62-60d8-4f54-821c-bad82dc74ee2',\n",
       " 'guidislink': False,\n",
       " 'authors': [{'name': 'Providence Fellowship'}],\n",
       " 'author': 'Providence Fellowship',\n",
       " 'author_detail': {'name': 'Providence Fellowship'},\n",
       " 'published': 'Sun, 21 Jan 2024 23:08:19 GMT',\n",
       " 'published_parsed': time.struct_time(tm_year=2024, tm_mon=1, tm_mday=21, tm_hour=23, tm_min=8, tm_sec=19, tm_wday=6, tm_yday=21, tm_isdst=0),\n",
       " 'content': [{'type': 'text/html',\n",
       "   'language': None,\n",
       "   'base': 'https://anchor.fm/s/74aab30/podcast/rss',\n",
       "   'value': '<p>Chris Price - Galatians 6:1-5</p>'}],\n",
       " 'itunes_explicit': None,\n",
       " 'itunes_duration': '00:37:12',\n",
       " 'image': {'href': 'https://d3t3ozftmdmh3i.cloudfront.net/staging/podcast_uploaded_nologo/1123340/1123340-1689031309246-52d6a7a677e0a.jpg'},\n",
       " 'itunes_episodetype': 'full'}"
      ]
     },
     "execution_count": 11,
     "metadata": {},
     "output_type": "execute_result"
    }
   ],
   "source": [
    "import feedparser\n",
    "\n",
    "feed = feedparser.parse(CONFIG[\"podcast\"][\"rss_url\"])\n",
    "feed[\"entries\"][0]"
   ]
  },
  {
   "cell_type": "markdown",
   "metadata": {},
   "source": [
    "### Extract desired info from feed\n",
    "\n",
    "There's a lot of data in the feed, let's distill it down to only those fields we need."
   ]
  },
  {
   "cell_type": "code",
   "execution_count": null,
   "metadata": {},
   "outputs": [],
   "source": [
    "import re\n",
    "\n",
    "remove_html_tags_regex = re.compile('<.*?>')\n",
    "summary_regex = re.compile(CONFIG[\"podcast\"][\"summary_regex\"])\n",
    "\n",
    "# These characters are not allowed in Windows filenames\n",
    "bad_file_symbols = r\"[.?!:%$#}{\\\\/'\\\"+`|=]\"\n",
    "\n",
    "\n",
    "distilled = []\n",
    "for e in feed[\"entries\"]:\n",
    "    clean_title = re.sub(bad_file_symbols, \"\", e[\"title\"])\n",
    "    parsed_summary_info = dict()\n",
    "    try:\n",
    "        parsed_summary_info = summary_regex.match(e[\"summary\"]).groupdict()\n",
    "    except Exception as ex:\n",
    "        if e[\"summary\"] is not None:\n",
    "            parsed_summary_info[\"speaker\"] = remove_html_tags_regex.sub(\"\", e[\"summary\"])\n",
    "        print(\"Could not parse summary:\", e[\"summary\"], \"with custom regex:\", CONFIG[\"podcast\"][\"summary_regex\"], \"using default regex instead.\")\n",
    "    distilled.append(dict(\n",
    "        id=e[\"id\"],\n",
    "        title=e[\"title\"],\n",
    "        title_clean=clean_title,\n",
    "        summary=e[\"summary\"],\n",
    "        audio=[l for l in e[\"links\"] if l[\"type\"].startswith(\"audio\")][0],\n",
    "        published=e[\"published\"],\n",
    "        **parsed_summary_info,\n",
    "    ))\n",
    "\n",
    "distilled[0]"
   ]
  },
  {
   "cell_type": "markdown",
   "metadata": {},
   "source": [
    "## Download the podcast audio files\n",
    "\n",
    "You could edit this code to only download a subsection of the audio files. For example the following edit would only download the first 10 episodes:\n",
    "\n",
    "```python\n",
    "for entry in distilled[0:10]:\n",
    "    ...\n",
    "```\n",
    "\n",
    "> 📃 Important! This code assumes the [ffmpeg tool](https://ffmpeg.org/download.html) is available to convert audio files to mp3 format. Visit the link and install the tool if you want to run this on your machine."
   ]
  },
  {
   "cell_type": "code",
   "execution_count": null,
   "metadata": {},
   "outputs": [],
   "source": [
    "import subprocess\n",
    "import mimetypes\n",
    "import json\n",
    "import requests\n",
    "from datetime import datetime\n",
    "from pytz import timezone\n",
    "from pathlib import Path\n",
    "\n",
    "output_dir = Path(CONFIG[\"output_dir\"])\n",
    "\n",
    "\n",
    "def download_audio(filepath: Path, audio: dict[str,str]):\n",
    "    # Determine the file extension from the MIME type\n",
    "    if audio[\"type\"] == \"audio/x-m4a\":\n",
    "        extension = \".m4a\"\n",
    "    else:\n",
    "        extension = mimetypes.guess_extension(audio[\"type\"])\n",
    "        if not extension:\n",
    "            raise ValueError(\"Unsupported audio type\")\n",
    "\n",
    "    # Download the audio file\n",
    "    response = requests.get(audio[\"href\"])\n",
    "    if response.status_code != 200:\n",
    "        raise Exception(\"Failed to download the file\")\n",
    "\n",
    "    # Save the audio file\n",
    "    downloaded_filepath = filepath.with_suffix(extension)\n",
    "    with open(downloaded_filepath, 'wb') as audio_file:\n",
    "        audio_file.write(response.content)\n",
    "\n",
    "    # Check if conversion to mp3 is needed\n",
    "    if audio[\"type\"] != \"audio/mpeg\":\n",
    "        # Convert the file to mp3 using ffmpeg\n",
    "        try:\n",
    "            subprocess.run([\"ffmpeg\", \"-i\", downloaded_filepath, filepath], check=True)\n",
    "            downloaded_filepath.unlink()\n",
    "        except subprocess.CalledProcessError:\n",
    "            raise Exception(\"Failed to convert the file to mp3\")\n",
    "\n",
    "    return filepath\n",
    "\n",
    "def parse_published_ts(ts: str):\n",
    "    #time_stamp = 'Mon, 17 Dec 2018 18:05:01 GMT'\n",
    "    utc = timezone('UTC')\n",
    "    central = timezone('US/Central')\n",
    "    published_time = datetime.strptime(ts, '%a, %d %b %Y %H:%M:%S %Z')\n",
    "    published_gmt = published_time.replace(tzinfo=utc)\n",
    "    published_cst = published_gmt.astimezone(central)\n",
    "    return published_cst\n",
    "\n",
    "filename_template = \"{date} {title}\"\n",
    "\n",
    "for entry in distilled:\n",
    "    published = parse_published_ts(entry[\"published\"])\n",
    "    name = filename_template.format(\n",
    "        date=published.strftime(\"%Y-%m-%d\"),\n",
    "        title=entry[\"title_clean\"],\n",
    "    )\n",
    "    metadata_path = output_dir / name / (\"metadata.json\")\n",
    "    print(f\"   - Metadata location: {metadata_path}\")\n",
    "    metadata_path.parent.mkdir(parents=True, exist_ok=True)\n",
    "    with open(metadata_path, \"w\") as metadata_file:\n",
    "        json.dump(entry, metadata_file)\n",
    "    audio_path = output_dir / name / f\"{name}.mp3\"\n",
    "    if audio_path.exists():\n",
    "        continue\n",
    "    print(f\"Downloading {name}\")\n",
    "    download_audio(audio_path, entry[\"audio\"])\n",
    "    print(f\"   - Audio location: {audio_path}\")"
   ]
  }
 ],
 "metadata": {
  "kernelspec": {
   "display_name": "venv",
   "language": "python",
   "name": "python3"
  },
  "language_info": {
   "codemirror_mode": {
    "name": "ipython",
    "version": 3
   },
   "file_extension": ".py",
   "mimetype": "text/x-python",
   "name": "python",
   "nbconvert_exporter": "python",
   "pygments_lexer": "ipython3",
   "version": "3.11.6"
  }
 },
 "nbformat": 4,
 "nbformat_minor": 2
}
