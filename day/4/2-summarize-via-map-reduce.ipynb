{
 "cells": [
  {
   "cell_type": "markdown",
   "metadata": {},
   "source": [
    "# Summarize via Map-Reduce\n",
    "\n",
    "Map-Reduce has been a paradigm in programming for a long time. I was first introduced to this paradigm when I learned functional programming in 2013, but Google has written papers on this going back to 2004. Here is a [link to a Cornell lecture](https://www.cs.cornell.edu/courses/cs3110/2014sp/lectures/5/map-fold-map-reduce) that dives deep into the Map-Reduce paradigm if you are interested in learning more.\n",
    "\n",
    "But for this notebook, it can be simplified to:\n",
    "  * Iterate over the document via chunks and summarize each chunk (Map)\n",
    "  * Combine the mini-summaries into the final summary (Reduce)"
   ]
  },
  {
   "cell_type": "code",
   "execution_count": null,
   "metadata": {},
   "outputs": [],
   "source": [
    "!pip install langchain\n",
    "!pip install langchain-community\n",
    "!pip install gpt4all"
   ]
  },
  {
   "cell_type": "markdown",
   "metadata": {},
   "source": [
    "## Import the model"
   ]
  },
  {
   "cell_type": "code",
   "execution_count": 10,
   "metadata": {},
   "outputs": [],
   "source": [
    "from langchain_community.llms.gpt4all import GPT4All\n",
    "\n",
    "# mistral-7b download available from the gpt4all website. Use the \"Model Explorer\"\n",
    "# https://gpt4all.io/\n",
    "llm = GPT4All(\n",
    "    model=\"../../models/mistral-7b-openorca.Q4_0.gguf\",\n",
    "    max_tokens=1024,\n",
    ")"
   ]
  },
  {
   "cell_type": "markdown",
   "metadata": {},
   "source": [
    "## Load the data\n",
    "\n",
    "I will be working with two datasets:\n",
    "\n",
    "- `data/small-document.txt` - Paragraph from [this article](https://www.nature.com/articles/s41467-017-01082-6).\n",
    "- `data/large-document.txt` - Full transcript of [this podcast](https://anchor.fm/s/74aab30/podcast/play/1593261/https%3A%2F%2Fd3ctxlq1ktw2nl.cloudfront.net%2Fproduction%2F2018-9-22%2F5313967-44100-1-ae7cde1436c24.mp3)."
   ]
  },
  {
   "cell_type": "code",
   "execution_count": 45,
   "metadata": {},
   "outputs": [],
   "source": [
    "from pathlib import Path\n",
    "\n",
    "SMALL_DOC = Path(\"./data/small-document.txt\").read_text(encoding=\"utf-8\")\n",
    "LARGE_DOC = Path(\"./data/large-document.txt\").read_text(encoding=\"utf-8\")"
   ]
  },
  {
   "cell_type": "markdown",
   "metadata": {},
   "source": [
    "## Use LangChain's map-reduce chain\n",
    "\n",
    "LangChain offers a [MapReduceDocumentsChain](https://api.python.langchain.com/en/latest/chains/langchain.chains.combine_documents.map_reduce.MapReduceDocumentsChain.html#langchain.chains.combine_documents.map_reduce.MapReduceDocumentsChain). I followed [this notebook](https://github.com/GoogleCloudPlatform/generative-ai/blob/main/language/use-cases/document-summarization/summarization_large_documents_langchain.ipynb) to write the following code.\n",
    "\n",
    "> 🌞 Side Note: This code covers several concepts which I have not learned about yet. Once I have written lessons on them, I will come back and provide links to those learnings. "
   ]
  },
  {
   "cell_type": "markdown",
   "metadata": {},
   "source": [
    "### Prompt Design\n",
    "\n",
    "The MapReduce approach requires two prompts:\n",
    "\n",
    "  * A prompt for summarizing each chunk of text from the original data.\n",
    "  * A prompt for combining the summaries into a cohesive summary for the entire data."
   ]
  },
  {
   "cell_type": "code",
   "execution_count": 69,
   "metadata": {},
   "outputs": [],
   "source": [
    "from langchain.prompts import PromptTemplate\n",
    "\n",
    "map_prompt = PromptTemplate.from_template(\n",
    "    \"I have taken the following text:\\n\\n\"\n",
    "    \"TEXT:: {text}.\\n\\n\"\n",
    "    \"And wrote a brief synopsis of the important information below. Let me know what you think!\\n\\n\"\n",
    "    \"SUMMARY:: \"\n",
    ")\n",
    "\n",
    "combine_prompt = PromptTemplate.from_template(\n",
    "    \"Here is the article: \\n\\n\"\n",
    "    \"{text}\\n\\n\"\n",
    "    \"I have written a concise summary of the article below. My summary is written in bullet point format. \\n\\n\"\n",
    ")"
   ]
  },
  {
   "cell_type": "markdown",
   "metadata": {},
   "source": [
    "### Document Chunking\n",
    "\n",
    "I chose to split the source text by sentence, but this approach is very caveman-esque because if the source text has a line like: `Something akin to Mr. Bean.`, then this text splitter would assume `Something akin to Mr` and `Bean` as two separate sentences.\n",
    "\n",
    "There have been many [long discussions](https://www.linkedin.com/pulse/very-long-discussion-legal-document-summarization-using-leonard-park/) about the best ways to split large documents. I recognize that my approach is not the best, perhaps somwhere in the next 30 days I will deep dive on this topic."
   ]
  },
  {
   "cell_type": "code",
   "execution_count": 59,
   "metadata": {},
   "outputs": [],
   "source": [
    "from langchain.docstore.document import Document\n",
    "from langchain.text_splitter import CharacterTextSplitter\n",
    "\n",
    "text_splitter = CharacterTextSplitter(\n",
    "    separator=\".\",\n",
    "    chunk_size=550,\n",
    "    chunk_overlap=0,\n",
    "    length_function=len,\n",
    ")\n",
    "\n",
    "small_doc_chunks = text_splitter.split_text(SMALL_DOC)\n",
    "small_docs = [Document(page_content=t) for t in small_doc_chunks]\n",
    "\n",
    "large_doc_chunks = text_splitter.split_text(LARGE_DOC)\n",
    "large_docs = [Document(page_content=t) for t in large_doc_chunks]"
   ]
  },
  {
   "cell_type": "markdown",
   "metadata": {},
   "source": [
    "### Map Reduce Chain"
   ]
  },
  {
   "cell_type": "code",
   "execution_count": 70,
   "metadata": {},
   "outputs": [],
   "source": [
    "from langchain.chains.summarize import load_summarize_chain\n",
    "\n",
    "map_reduce_chain = load_summarize_chain(\n",
    "    llm=llm,\n",
    "    chain_type=\"map_reduce\",\n",
    "    map_prompt=map_prompt,\n",
    "    combine_prompt=combine_prompt,\n",
    "    return_intermediate_steps=True,\n",
    "    verbose=True,\n",
    ")"
   ]
  },
  {
   "cell_type": "markdown",
   "metadata": {},
   "source": [
    "### Run on the small document\n",
    "\n",
    "This took 3m on my local machine."
   ]
  },
  {
   "cell_type": "code",
   "execution_count": 72,
   "metadata": {},
   "outputs": [
    {
     "name": "stdout",
     "output_type": "stream",
     "text": [
      "\n",
      "\n",
      "\u001b[1m> Entering new MapReduceDocumentsChain chain...\u001b[0m\n",
      "\n",
      "\n",
      "\u001b[1m> Entering new LLMChain chain...\u001b[0m\n",
      "Prompt after formatting:\n",
      "\u001b[32;1m\u001b[1;3mI have taken the following text:\n",
      "\n",
      "TEXT:: RNA is increasingly recognized as a powerful biomolecule for controlling gene expression and engineering synthetic cellular functions. One of the reasons for this is that natural and engineered RNA-based regulators are now available that can control almost every aspect of gene expression. In addition these regulatory functions can be enacted and tuned by the programmable formation of specific RNA structures, which mediate interactions with cellular machinery to perform gene regulation.\n",
      "\n",
      "And wrote a brief synopsis of the important information below. Let me know what you think!\n",
      "\n",
      "SUMMARY:: \u001b[0m\n",
      "Prompt after formatting:\n",
      "\u001b[32;1m\u001b[1;3mI have taken the following text:\n",
      "\n",
      "TEXT:: For example in bacteria, the formation of simple RNA structures such as hairpins within mRNAs can prevent their transcription and translation. Moreover, these cis-acting RNA structures can be further controlled through interacting with trans-acting small RNAs (sRNAs) or binding of a ligand, to prevent or allow their formation—in effect creating inducible genetic control elements.\n",
      "\n",
      "And wrote a brief synopsis of the important information below. Let me know what you think!\n",
      "\n",
      "SUMMARY:: \u001b[0m\n",
      "Prompt after formatting:\n",
      "\u001b[32;1m\u001b[1;3mI have taken the following text:\n",
      "\n",
      "TEXT:: This combination of versatile genetic regulation controlled by simple RNA structures creates the intriguing possibility of using nucleic acid design algorithms to create RNA regulators de novo. Thus RNA as a substrate for molecular programming has a potential major advantage over less designable protein regulators, and there is great promise for RNA synthetic biology to allow for the bottom up molecular-level design of genetic control systems.\n",
      "\n",
      "And wrote a brief synopsis of the important information below. Let me know what you think!\n",
      "\n",
      "SUMMARY:: \u001b[0m\n",
      "\n",
      "\u001b[1m> Finished chain.\u001b[0m\n",
      "\n",
      "\n",
      "\u001b[1m> Entering new LLMChain chain...\u001b[0m\n",
      "Prompt after formatting:\n",
      "\u001b[32;1m\u001b[1;3mHere is the article: \n",
      "\n",
      "\n",
      "RNA is becoming increasingly recognized for its potential in controlling gene expression and engineering synthetic cellular functions due to the availability of natural and engineered RNA-based regulators that can control almost every aspect of gene expression. These regulatory functions are performed through programmable formation of specific RNA structures, which mediate interactions with cellular machinery to carry out gene regulation.\n",
      "\n",
      "\n",
      "In bacteria, RNA structures such as hairpins within mRNAs can regulate transcription and translation by preventing or allowing their formation. These cis-acting elements are controlled through interactions with small RNAs (sRNAs) or ligand binding, creating inducible genetic control elements.\n",
      "\n",
      "\n",
      "The text discusses the potential use of nucleic acid design algorithms in creating RNA regulators de novo, which could have significant advantages over protein-based genetic control systems due to its versatile genetic regulation controlled by simple RNA structures. This suggests a promising future for RNA synthetic biology and molecular programming at the bottom up level. \n",
      "\n",
      "I have written a concise summary of the article below. My summary is written in bullet point format. \n",
      "\n",
      "\u001b[0m\n",
      "\n",
      "\u001b[1m> Finished chain.\u001b[0m\n",
      "\n",
      "\u001b[1m> Finished chain.\u001b[0m\n"
     ]
    }
   ],
   "source": [
    "map_reduce_outputs = map_reduce_chain({\"input_documents\": small_docs})"
   ]
  },
  {
   "cell_type": "code",
   "execution_count": 74,
   "metadata": {},
   "outputs": [
    {
     "data": {
      "text/html": [
       "<table>\n",
       "<tbody>\n",
       "<tr><td>RNA is increasingly recognized as a powerful biomolecule for controlling gene expression and engineering synthetic cellular functions. One of the reasons for this is that natural and engineered RNA-based regulators are now available that can control almost every aspect of gene expression. In addition these regulatory functions can be enacted and tuned by the programmable formation of specific RNA structures, which mediate interactions with cellular machinery to perform gene regulation</td><td>RNA is becoming increasingly recognized for its potential in controlling gene expression and engineering synthetic cellular functions due to the availability of natural and engineered RNA-based regulators that can control almost every aspect of gene expression. These regulatory functions are performed through programmable formation of specific RNA structures, which mediate interactions with cellular machinery to carry out gene regulation.</td></tr>\n",
       "<tr><td>For example in bacteria, the formation of simple RNA structures such as hairpins within mRNAs can prevent their transcription and translation. Moreover, these cis-acting RNA structures can be further controlled through interacting with trans-acting small RNAs (sRNAs) or binding of a ligand, to prevent or allow their formation—in effect creating inducible genetic control elements                                                                                                            </td><td>In bacteria, RNA structures such as hairpins within mRNAs can regulate transcription and translation by preventing or allowing their formation. These cis-acting elements are controlled through interactions with small RNAs (sRNAs) or ligand binding, creating inducible genetic control elements.                                                                                                                                                     </td></tr>\n",
       "<tr><td>This combination of versatile genetic regulation controlled by simple RNA structures creates the intriguing possibility of using nucleic acid design algorithms to create RNA regulators de novo. Thus RNA as a substrate for molecular programming has a potential major advantage over less designable protein regulators, and there is great promise for RNA synthetic biology to allow for the bottom up molecular-level design of genetic control systems                                           </td><td>The text discusses the potential use of nucleic acid design algorithms in creating RNA regulators de novo, which could have significant advantages over protein-based genetic control systems due to its versatile genetic regulation controlled by simple RNA structures. This suggests a promising future for RNA synthetic biology and molecular programming at the bottom up level.                                                                   </td></tr>\n",
       "<tr><td>Final Summary                                                                                                                                                                                                                                                                                                                                                                                                                                                                                            </td><td>1. RNA-based regulators are becoming increasingly recognized due to their potential in controlling gene expression and engineering synthetic cellular functions.\n",
       "2. These regulatory functions are performed through programmable formation of specific RNA structures, which mediate interactions with cellular machinery to carry out gene regulation.\n",
       "3. In bacteria, RNA structures such as hairpins within mRNAs can regulate transcription and translation by preventing or allowing their formation.\n",
       "4. These cis-acting elements are controlled through interactions with small RNAs (sRNAs) or ligand binding, creating inducible genetic control elements.\n",
       "5. The potential use of nucleic acid design algorithms in creating RNA regulators de novo could have significant advantages over protein-based genetic control systems due to its versatile genetic regulation controlled by simple RNA structures.\n",
       "6. This suggests a promising future for RNA synthetic biology and molecular programming at the bottom up level.                                                                                                                                                                                                                                                                                                                                                                                                                                                           </td></tr>\n",
       "</tbody>\n",
       "</table>"
      ],
      "text/plain": [
       "'<table>\\n<tbody>\\n<tr><td>RNA is increasingly recognized as a powerful biomolecule for controlling gene expression and engineering synthetic cellular functions. One of the reasons for this is that natural and engineered RNA-based regulators are now available that can control almost every aspect of gene expression. In addition these regulatory functions can be enacted and tuned by the programmable formation of specific RNA structures, which mediate interactions with cellular machinery to perform gene regulation</td><td>RNA is becoming increasingly recognized for its potential in controlling gene expression and engineering synthetic cellular functions due to the availability of natural and engineered RNA-based regulators that can control almost every aspect of gene expression. These regulatory functions are performed through programmable formation of specific RNA structures, which mediate interactions with cellular machinery to carry out gene regulation.</td></tr>\\n<tr><td>For example in bacteria, the formation of simple RNA structures such as hairpins within mRNAs can prevent their transcription and translation. Moreover, these cis-acting RNA structures can be further controlled through interacting with trans-acting small RNAs (sRNAs) or binding of a ligand, to prevent or allow their formation—in effect creating inducible genetic control elements                                                                                                            </td><td>In bacteria, RNA structures such as hairpins within mRNAs can regulate transcription and translation by preventing or allowing their formation. These cis-acting elements are controlled through interactions with small RNAs (sRNAs) or ligand binding, creating inducible genetic control elements.                                                                                                                                                     </td></tr>\\n<tr><td>This combination of versatile genetic regulation controlled by simple RNA structures creates the intriguing possibility of using nucleic acid design algorithms to create RNA regulators de novo. Thus RNA as a substrate for molecular programming has a potential major advantage over less designable protein regulators, and there is great promise for RNA synthetic biology to allow for the bottom up molecular-level design of genetic control systems                                           </td><td>The text discusses the potential use of nucleic acid design algorithms in creating RNA regulators de novo, which could have significant advantages over protein-based genetic control systems due to its versatile genetic regulation controlled by simple RNA structures. This suggests a promising future for RNA synthetic biology and molecular programming at the bottom up level.                                                                   </td></tr>\\n<tr><td>Final Summary                                                                                                                                                                                                                                                                                                                                                                                                                                                                                            </td><td>1. RNA-based regulators are becoming increasingly recognized due to their potential in controlling gene expression and engineering synthetic cellular functions.\\n2. These regulatory functions are performed through programmable formation of specific RNA structures, which mediate interactions with cellular machinery to carry out gene regulation.\\n3. In bacteria, RNA structures such as hairpins within mRNAs can regulate transcription and translation by preventing or allowing their formation.\\n4. These cis-acting elements are controlled through interactions with small RNAs (sRNAs) or ligand binding, creating inducible genetic control elements.\\n5. The potential use of nucleic acid design algorithms in creating RNA regulators de novo could have significant advantages over protein-based genetic control systems due to its versatile genetic regulation controlled by simple RNA structures.\\n6. This suggests a promising future for RNA synthetic biology and molecular programming at the bottom up level.                                                                                                                                                                                                                                                                                                                                                                                                                                                           </td></tr>\\n</tbody>\\n</table>'"
      ]
     },
     "execution_count": 74,
     "metadata": {},
     "output_type": "execute_result"
    }
   ],
   "source": [
    "import tabulate\n",
    "\n",
    "left_column = [page.page_content for page in map_reduce_outputs[\"input_documents\"]] + [\"Final Summary\"]\n",
    "right_column = [out for out in map_reduce_outputs[\"intermediate_steps\"]] + [map_reduce_outputs[\"output_text\"]]\n",
    "\n",
    "table_data = list(zip(left_column, right_column))\n",
    "table = tabulate.tabulate(table_data, tablefmt='html')\n",
    "table"
   ]
  },
  {
   "cell_type": "markdown",
   "metadata": {},
   "source": [
    "### Run on the large document\n",
    "\n",
    "> ⚠ Caution! This took 47 minutes to run on my local machine with the suggested model. Probably not worth your time since it fails in the end 😊"
   ]
  },
  {
   "cell_type": "code",
   "execution_count": null,
   "metadata": {},
   "outputs": [],
   "source": [
    "map_reduce_outputs = map_reduce_chain({\"input_documents\": large_docs})"
   ]
  },
  {
   "cell_type": "markdown",
   "metadata": {},
   "source": [
    "As I suspected, it summarized each block of text, but failed in the final `Reduce` step. "
   ]
  }
 ],
 "metadata": {
  "kernelspec": {
   "display_name": "venv",
   "language": "python",
   "name": "python3"
  },
  "language_info": {
   "codemirror_mode": {
    "name": "ipython",
    "version": 3
   },
   "file_extension": ".py",
   "mimetype": "text/x-python",
   "name": "python",
   "nbconvert_exporter": "python",
   "pygments_lexer": "ipython3",
   "version": "3.11.6"
  }
 },
 "nbformat": 4,
 "nbformat_minor": 2
}
