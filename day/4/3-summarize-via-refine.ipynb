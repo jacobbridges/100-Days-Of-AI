{
 "cells": [
  {
   "cell_type": "markdown",
   "metadata": {},
   "source": [
    "# Summarize via Refine\n",
    "\n",
    "As the name implies, the Refine summarization method works by:\n",
    "\n",
    "  1. Chunking the source text.\n",
    "  2. Summarize chunk 1.\n",
    "  3. Give LLM \"new context\" (chunk 2) and ask it to update the summary from chunk 1.\n",
    "  4. Repeat for n chunks."
   ]
  },
  {
   "cell_type": "code",
   "execution_count": null,
   "metadata": {},
   "outputs": [],
   "source": [
    "!pip install langchain\n",
    "!pip install langchain-community\n",
    "!pip install gpt4all"
   ]
  },
  {
   "cell_type": "markdown",
   "metadata": {},
   "source": [
    "## Import the model\n"
   ]
  },
  {
   "cell_type": "code",
   "execution_count": null,
   "metadata": {},
   "outputs": [],
   "source": [
    "from langchain_community.llms.gpt4all import GPT4All\n",
    "\n",
    "# mistral-7b download available from the gpt4all website. Use the \"Model Explorer\"\n",
    "# https://gpt4all.io/\n",
    "llm = GPT4All(\n",
    "    model=\"../../models/mistral-7b-openorca.Q4_0.gguf\",\n",
    "    max_tokens=1024,\n",
    ")"
   ]
  }
 ],
 "metadata": {
  "language_info": {
   "name": "python"
  }
 },
 "nbformat": 4,
 "nbformat_minor": 2
}
