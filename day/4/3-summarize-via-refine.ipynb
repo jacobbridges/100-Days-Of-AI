{
 "cells": [
  {
   "cell_type": "markdown",
   "metadata": {},
   "source": [
    "# Summarize via Refine\n",
    "\n",
    "As the name implies, the Refine summarization method works by:\n",
    "\n",
    "  1. Splitting the source text into chunks.\n",
    "  2. Asking the LLM to summarize the first chunk.\n",
    "  3. Ask the LLM to improve the summary based on information in chunk 2.\n",
    "  4. Repeat for n chunks."
   ]
  },
  {
   "cell_type": "code",
   "execution_count": null,
   "metadata": {},
   "outputs": [],
   "source": [
    "!pip install langchain\n",
    "!pip install langchain-community\n",
    "!pip install gpt4all\n",
    "# I use Google's Vertex AI to process the large document, only uncomment if you need it\n",
    "#!pip install langchain-google-vertexai"
   ]
  },
  {
   "cell_type": "markdown",
   "metadata": {},
   "source": [
    "## Import the model\n"
   ]
  },
  {
   "cell_type": "code",
   "execution_count": 1,
   "metadata": {},
   "outputs": [],
   "source": [
    "from langchain_community.llms.gpt4all import GPT4All\n",
    "\n",
    "# mistral-7b download available from the gpt4all website. Use the \"Model Explorer\"\n",
    "# https://gpt4all.io/\n",
    "llm = GPT4All(\n",
    "    model=\"../../models/mistral-7b-openorca.Q4_0.gguf\",\n",
    "    max_tokens=1024,\n",
    ")"
   ]
  },
  {
   "cell_type": "markdown",
   "metadata": {},
   "source": [
    "## Load the data\n",
    "\n",
    "I will be working with two datasets:\n",
    "\n",
    "- `data/small-document.txt` - Paragraph from [this article](https://www.nature.com/articles/s41467-017-01082-6).\n",
    "- `data/large-document.txt` - Full transcript of [this podcast](https://anchor.fm/s/74aab30/podcast/play/1593261/https%3A%2F%2Fd3ctxlq1ktw2nl.cloudfront.net%2Fproduction%2F2018-9-22%2F5313967-44100-1-ae7cde1436c24.mp3)."
   ]
  },
  {
   "cell_type": "code",
   "execution_count": 1,
   "metadata": {},
   "outputs": [],
   "source": [
    "from pathlib import Path\n",
    "\n",
    "SMALL_DOC = Path(\"./data/small-document.txt\").read_text(encoding=\"utf-8\")\n",
    "LARGE_DOC = Path(\"./data/large-document.txt\").read_text(encoding=\"utf-8\")"
   ]
  },
  {
   "cell_type": "markdown",
   "metadata": {},
   "source": [
    "## Use LangChain's refine chain\n",
    "\n",
    "LangChain offers a [RefineDocumentsChain](https://api.python.langchain.com/en/latest/chains/langchain.chains.combine_documents.refine.RefineDocumentsChain.html).\n",
    "\n",
    "> 🌞 Side Note: This code covers several concepts which I have not learned about yet. Once I have written lessons on them, I will come back and provide links to those learnings. "
   ]
  },
  {
   "cell_type": "markdown",
   "metadata": {},
   "source": [
    "### Prompt Design\n",
    "\n",
    "The Refine approach requires two prompts:\n",
    "\n",
    "* A prompt for summarizing the first chunk of text.\n",
    "* A prompt for refining the summary based on new information."
   ]
  },
  {
   "cell_type": "code",
   "execution_count": 2,
   "metadata": {},
   "outputs": [],
   "source": [
    "from langchain.prompts import PromptTemplate\n",
    "\n",
    "question_prompt = PromptTemplate.from_template(\n",
    "    \"I have taken the following text:\\n\\n\"\n",
    "    \"TEXT: {text}\\n\\n\"\n",
    "    \"And written a short, concise summary below. Let me know what you think!\\n\\n\"\n",
    "    \"SUMMARY: \"\n",
    ")\n",
    "\n",
    "refine_prompt = PromptTemplate.from_template(\n",
    "    \"Here is the concise summary from the last document:\\n\\n\"\n",
    "    \"SUMMARY: {summary}\\n\\n\"\n",
    "    \"But we have the following new information:\\n\\n\"\n",
    "    \"TEXT: {text}\\n\\n\"\n",
    "    \"So I have refined the original summary to include the new information.\\n\\n\"\n",
    "    \"NEW SUMMARY: \"\n",
    ")"
   ]
  },
  {
   "cell_type": "markdown",
   "metadata": {},
   "source": [
    "### Document Chunking\n",
    "\n",
    "I chose to split the source text by sentence. As discussed in [this notebook](./2-summarize-via-map-reduce.ipynb), this is not an optimal approach. There will be a future lesson on better approaches to document splitting."
   ]
  },
  {
   "cell_type": "code",
   "execution_count": 3,
   "metadata": {},
   "outputs": [],
   "source": [
    "from langchain.docstore.document import Document\n",
    "from langchain.text_splitter import CharacterTextSplitter\n",
    "\n",
    "text_splitter = CharacterTextSplitter(\n",
    "    separator=\".\",\n",
    "    chunk_size=550,\n",
    "    chunk_overlap=0,\n",
    "    length_function=len,\n",
    ")\n",
    "\n",
    "small_doc_chunks = text_splitter.split_text(SMALL_DOC)\n",
    "small_docs = [Document(page_content=t + \".\") for t in small_doc_chunks]\n",
    "\n",
    "large_doc_chunks = text_splitter.split_text(LARGE_DOC)\n",
    "large_docs = [Document(page_content=t + \".\") for t in large_doc_chunks]"
   ]
  },
  {
   "cell_type": "markdown",
   "metadata": {},
   "source": [
    "### Refine Chain"
   ]
  },
  {
   "cell_type": "code",
   "execution_count": null,
   "metadata": {},
   "outputs": [],
   "source": [
    "from langchain.chains.summarize import load_summarize_chain\n",
    "\n",
    "refine_chain = load_summarize_chain(\n",
    "    llm=llm,\n",
    "    chain_type=\"refine\",\n",
    "    question_prompt=question_prompt,\n",
    "    refine_prompt=refine_prompt,\n",
    "    initial_response_name=\"summary\",\n",
    "    return_intermediate_steps=True,\n",
    "    verbose=True,\n",
    ")"
   ]
  },
  {
   "cell_type": "markdown",
   "metadata": {},
   "source": [
    "### Run on the small document\n",
    "\n",
    "This took 2m 35s on my local machine."
   ]
  },
  {
   "cell_type": "code",
   "execution_count": 10,
   "metadata": {},
   "outputs": [
    {
     "name": "stdout",
     "output_type": "stream",
     "text": [
      "\n",
      "\n",
      "\u001b[1m> Entering new RefineDocumentsChain chain...\u001b[0m\n",
      "\n",
      "\n",
      "\u001b[1m> Entering new LLMChain chain...\u001b[0m\n",
      "Prompt after formatting:\n",
      "\u001b[32;1m\u001b[1;3mI have taken the following text:\n",
      "\n",
      "TEXT: RNA is increasingly recognized as a powerful biomolecule for controlling gene expression and engineering synthetic cellular functions. One of the reasons for this is that natural and engineered RNA-based regulators are now available that can control almost every aspect of gene expression. In addition these regulatory functions can be enacted and tuned by the programmable formation of specific RNA structures, which mediate interactions with cellular machinery to perform gene regulation.\n",
      "\n",
      "And written a short, concise summary below. Let me know what you think!\n",
      "\n",
      "SUMMARY: \u001b[0m\n",
      "\n",
      "\u001b[1m> Finished chain.\u001b[0m\n",
      "\n",
      "\n",
      "\u001b[1m> Entering new LLMChain chain...\u001b[0m\n",
      "Prompt after formatting:\n",
      "\u001b[32;1m\u001b[1;3mHere is the concise summary from the last document:\n",
      "\n",
      "SUMMARY: \n",
      "RNA is becoming increasingly important in controlling gene expression and engineering synthetic cellular functions due to the availability of natural and engineered RNA-based regulators that can control almost every aspect of gene expression. These regulatory functions are performed through programmable formation of specific RNA structures, which interact with cellular machinery for effective gene regulation.\n",
      "\n",
      "But we have the following new information:\n",
      "\n",
      "TEXT: For example in bacteria, the formation of simple RNA structures such as hairpins within mRNAs can prevent their transcription and translation. Moreover, these cis-acting RNA structures can be further controlled through interacting with trans-acting small RNAs (sRNAs) or binding of a ligand, to prevent or allow their formation—in effect creating inducible genetic control elements.\n",
      "\n",
      "So I have refined the original summary to include the new information.\n",
      "\n",
      "NEW SUMMARY: \u001b[0m\n",
      "\n",
      "\u001b[1m> Finished chain.\u001b[0m\n",
      "\n",
      "\n",
      "\u001b[1m> Entering new LLMChain chain...\u001b[0m\n",
      "Prompt after formatting:\n",
      "\u001b[32;1m\u001b[1;3mHere is the concise summary from the last document:\n",
      "\n",
      "SUMMARY: \n",
      "RNA is becoming increasingly important in controlling gene expression and engineering synthetic cellular functions due to the availability of natural and engineered RNA-based regulators that can control almost every aspect of gene expression. These regulatory functions are performed through programmable formation of specific RNA structures, which interact with cellular machinery for effective gene regulation. For example, in bacteria, simple RNA structures such as hairpins within mRNAs can prevent their transcription and translation. Moreover, these cis-acting RNA structures can be further controlled through interacting with trans-acting small RNAs (sRNAs) or binding of a ligand, to prevent or allow their formation—in effect creating inducible genetic control elements.\n",
      "\n",
      "But we have the following new information:\n",
      "\n",
      "TEXT: This combination of versatile genetic regulation controlled by simple RNA structures creates the intriguing possibility of using nucleic acid design algorithms to create RNA regulators de novo. Thus RNA as a substrate for molecular programming has a potential major advantage over less designable protein regulators, and there is great promise for RNA synthetic biology to allow for the bottom up molecular-level design of genetic control systems.\n",
      "\n",
      "So I have refined the original summary to include the new information.\n",
      "\n",
      "NEW SUMMARY: \u001b[0m\n",
      "\n",
      "\u001b[1m> Finished chain.\u001b[0m\n",
      "\n",
      "\u001b[1m> Finished chain.\u001b[0m\n"
     ]
    },
    {
     "ename": "",
     "evalue": "",
     "output_type": "error",
     "traceback": [
      "\u001b[1;31mThe Kernel crashed while executing code in the the current cell or a previous cell. Please review the code in the cell(s) to identify a possible cause of the failure. Click <a href='https://aka.ms/vscodeJupyterKernelCrash'>here</a> for more info. View Jupyter <a href='command:jupyter.viewOutput'>log</a> for further details."
     ]
    }
   ],
   "source": [
    "small_doc_summary = refine_chain({\"input_documents\": small_docs})"
   ]
  },
  {
   "cell_type": "code",
   "execution_count": 8,
   "metadata": {},
   "outputs": [
    {
     "data": {
      "text/html": [
       "<table>\n",
       "<tbody>\n",
       "<tr><td>RNA is increasingly recognized as a powerful biomolecule for controlling gene expression and engineering synthetic cellular functions. One of the reasons for this is that natural and engineered RNA-based regulators are now available that can control almost every aspect of gene expression. In addition these regulatory functions can be enacted and tuned by the programmable formation of specific RNA structures, which mediate interactions with cellular machinery to perform gene regulation</td><td>RNA is becoming increasingly important in controlling gene expression and engineering synthetic cellular functions due to the availability of natural and engineered RNA-based regulators that can control almost every aspect of gene expression. These regulatory functions are performed through programmable formation of specific RNA structures, which interact with cellular machinery for effective gene regulation.                                                                                                                                                                                                                                                                                                                                                                               </td></tr>\n",
       "<tr><td>For example in bacteria, the formation of simple RNA structures such as hairpins within mRNAs can prevent their transcription and translation. Moreover, these cis-acting RNA structures can be further controlled through interacting with trans-acting small RNAs (sRNAs) or binding of a ligand, to prevent or allow their formation—in effect creating inducible genetic control elements                                                                                                            </td><td>RNA is becoming increasingly important in controlling gene expression and engineering synthetic cellular functions due to the availability of natural and engineered RNA-based regulators that can control almost every aspect of gene expression. These regulatory functions are performed through programmable formation of specific RNA structures, which interact with cellular machinery for effective gene regulation. For example, in bacteria, simple RNA structures such as hairpins within mRNAs can prevent their transcription and translation. Moreover, these cis-acting RNA structures can be further controlled through interacting with trans-acting small RNAs (sRNAs) or binding of a ligand, to prevent or allow their formation—in effect creating inducible genetic control elements.</td></tr>\n",
       "<tr><td>This combination of versatile genetic regulation controlled by simple RNA structures creates the intriguing possibility of using nucleic acid design algorithms to create RNA regulators de novo. Thus RNA as a substrate for molecular programming has a potential major advantage over less designable protein regulators, and there is great promise for RNA synthetic biology to allow for the bottom up molecular-level design of genetic control systems                                           </td><td>RNA is becoming increasingly important in controlling gene expression due to its versatile regulatory functions, which can be controlled through programmable formation of specific RNA structures that interact with cellular machinery for effective gene regulation. This has led to the possibility of using nucleic acid design algorithms to create RNA regulators de novo, offering a major advantage over less designable protein regulators and promising potential for RNA synthetic biology in designing genetic control systems at the molecular level.                                                                                                                                                                                                                                        </td></tr>\n",
       "<tr><td>Final Summary                                                                                                                                                                                                                                                                                                                                                                                                                                                                                            </td><td>RNA is becoming increasingly important in controlling gene expression due to its versatile regulatory functions, which can be controlled through programmable formation of specific RNA structures that interact with cellular machinery for effective gene regulation. This has led to the possibility of using nucleic acid design algorithms to create RNA regulators de novo, offering a major advantage over less designable protein regulators and promising potential for RNA synthetic biology in designing genetic control systems at the molecular level.                                                                                                                                                                                                                                        </td></tr>\n",
       "</tbody>\n",
       "</table>"
      ],
      "text/plain": [
       "'<table>\\n<tbody>\\n<tr><td>RNA is increasingly recognized as a powerful biomolecule for controlling gene expression and engineering synthetic cellular functions. One of the reasons for this is that natural and engineered RNA-based regulators are now available that can control almost every aspect of gene expression. In addition these regulatory functions can be enacted and tuned by the programmable formation of specific RNA structures, which mediate interactions with cellular machinery to perform gene regulation</td><td>RNA is becoming increasingly important in controlling gene expression and engineering synthetic cellular functions due to the availability of natural and engineered RNA-based regulators that can control almost every aspect of gene expression. These regulatory functions are performed through programmable formation of specific RNA structures, which interact with cellular machinery for effective gene regulation.                                                                                                                                                                                                                                                                                                                                                                               </td></tr>\\n<tr><td>For example in bacteria, the formation of simple RNA structures such as hairpins within mRNAs can prevent their transcription and translation. Moreover, these cis-acting RNA structures can be further controlled through interacting with trans-acting small RNAs (sRNAs) or binding of a ligand, to prevent or allow their formation—in effect creating inducible genetic control elements                                                                                                            </td><td>RNA is becoming increasingly important in controlling gene expression and engineering synthetic cellular functions due to the availability of natural and engineered RNA-based regulators that can control almost every aspect of gene expression. These regulatory functions are performed through programmable formation of specific RNA structures, which interact with cellular machinery for effective gene regulation. For example, in bacteria, simple RNA structures such as hairpins within mRNAs can prevent their transcription and translation. Moreover, these cis-acting RNA structures can be further controlled through interacting with trans-acting small RNAs (sRNAs) or binding of a ligand, to prevent or allow their formation—in effect creating inducible genetic control elements.</td></tr>\\n<tr><td>This combination of versatile genetic regulation controlled by simple RNA structures creates the intriguing possibility of using nucleic acid design algorithms to create RNA regulators de novo. Thus RNA as a substrate for molecular programming has a potential major advantage over less designable protein regulators, and there is great promise for RNA synthetic biology to allow for the bottom up molecular-level design of genetic control systems                                           </td><td>RNA is becoming increasingly important in controlling gene expression due to its versatile regulatory functions, which can be controlled through programmable formation of specific RNA structures that interact with cellular machinery for effective gene regulation. This has led to the possibility of using nucleic acid design algorithms to create RNA regulators de novo, offering a major advantage over less designable protein regulators and promising potential for RNA synthetic biology in designing genetic control systems at the molecular level.                                                                                                                                                                                                                                        </td></tr>\\n<tr><td>Final Summary                                                                                                                                                                                                                                                                                                                                                                                                                                                                                            </td><td>RNA is becoming increasingly important in controlling gene expression due to its versatile regulatory functions, which can be controlled through programmable formation of specific RNA structures that interact with cellular machinery for effective gene regulation. This has led to the possibility of using nucleic acid design algorithms to create RNA regulators de novo, offering a major advantage over less designable protein regulators and promising potential for RNA synthetic biology in designing genetic control systems at the molecular level.                                                                                                                                                                                                                                        </td></tr>\\n</tbody>\\n</table>'"
      ]
     },
     "execution_count": 8,
     "metadata": {},
     "output_type": "execute_result"
    }
   ],
   "source": [
    "import tabulate\n",
    "\n",
    "left_column = [page.page_content for page in small_doc_summary[\"input_documents\"]] + [\"Final Summary\"]\n",
    "right_column = [out for out in small_doc_summary[\"intermediate_steps\"]] + [small_doc_summary[\"output_text\"]]\n",
    "\n",
    "table_data = list(zip(left_column, right_column))\n",
    "table = tabulate.tabulate(table_data, tablefmt='html')\n",
    "table"
   ]
  },
  {
   "cell_type": "markdown",
   "metadata": {},
   "source": [
    "### 💭 Thoughts on Small Document Summary\n",
    "\n",
    "As I expected, there is some information loss in the summary, but no explicitly incorrect information.\n",
    "\n",
    "One thing I like about this process is that you can summarize large files on LLMs with small context windows. There would be significat information loss if attempting to summarize a very large document - but perhaps there are other use cases such as extracting references from a large document.\n",
    "\n",
    "Apart from the information loss, the other issue with the Refine chain is it cannot be parallelized since each new summarization depends on the previous one. So summarizing large documents will be significantly slower than stuffing or Map-Reduce (if the mapping stage is parallelized)."
   ]
  },
  {
   "cell_type": "markdown",
   "metadata": {},
   "source": [
    "### Run on the large document\n",
    "\n",
    "I don't want to wait 45 minutes for this to run [like I did in the map-reduce notebook](./2-summarize-via-map-reduce.ipynb). So I'm cheating a bit by using Google's gemini llm. As always, you should be able to replace with any llm of your choice -- just keep in mind that prompts can vary quite a bit between LLMs.\n",
    "\n",
    "In this example, I rely on langchain's default prompts because Google's Gemini model has some instruction training, which work well with the defaults. Also I have opted to exclude the cell outputs since processing the large document produces a _lot_ of output. Feel free to run through it yourself!"
   ]
  },
  {
   "cell_type": "code",
   "execution_count": 22,
   "metadata": {},
   "outputs": [
    {
     "name": "stdout",
     "output_type": "stream",
     "text": [
      "Write a concise summary of the following:\n",
      "\n",
      "\n",
      "\"{text}\"\n",
      "\n",
      "\n",
      "CONCISE SUMMARY:\n"
     ]
    }
   ],
   "source": [
    "from langchain.chains.summarize import refine_prompts\n",
    "\n",
    "print(refine_prompts.PROMPT.template)"
   ]
  },
  {
   "cell_type": "code",
   "execution_count": 23,
   "metadata": {},
   "outputs": [
    {
     "name": "stdout",
     "output_type": "stream",
     "text": [
      "Your job is to produce a final summary.\n",
      "We have provided an existing summary up to a certain point: {existing_answer}\n",
      "We have the opportunity to refine the existing summary (only if needed) with some more context below.\n",
      "------------\n",
      "{text}\n",
      "------------\n",
      "Given the new context, refine the original summary.\n",
      "If the context isn't useful, return the original summary.\n"
     ]
    }
   ],
   "source": [
    "print(refine_prompts.REFINE_PROMPT.template)"
   ]
  },
  {
   "cell_type": "code",
   "execution_count": 8,
   "metadata": {},
   "outputs": [],
   "source": [
    "import os\n",
    "import getpass\n",
    "from langchain_google_vertexai import VertexAI\n",
    "\n",
    "os.environ[\"GOOGLE_APPLICATION_CREDENTIALS\"] = Path(getpass.getpass(\"Path to google credentials json file\")).absolute().as_posix()\n",
    "google_project_id = getpass.getpass(\"Google Project ID\")\n",
    "\n",
    "\n",
    "llm = VertexAI(model_name=\"gemini-pro\", project=google_project_id, max_output_tokens=1024)\n",
    "\n",
    "refine_chain = load_summarize_chain(\n",
    "    llm=llm,\n",
    "    chain_type=\"refine\",\n",
    "    return_intermediate_steps=True,\n",
    "    verbose=True,\n",
    ")"
   ]
  },
  {
   "cell_type": "code",
   "execution_count": null,
   "metadata": {},
   "outputs": [],
   "source": [
    "large_doc_summary = refine_chain({\"input_documents\": large_docs})"
   ]
  },
  {
   "cell_type": "code",
   "execution_count": null,
   "metadata": {},
   "outputs": [],
   "source": [
    "import tabulate\n",
    "\n",
    "left_column = [page.page_content for page in large_doc_summary[\"input_documents\"]] + [\"Final Summary\"]\n",
    "right_column = [' '.join(out.split(\"- \")) for out in large_doc_summary[\"intermediate_steps\"]] + [large_doc_summary[\"output_text\"]]\n",
    "\n",
    "table_data = list(zip(left_column, right_column))\n",
    "table = tabulate.tabulate(table_data, tablefmt='html')\n",
    "table"
   ]
  },
  {
   "cell_type": "markdown",
   "metadata": {},
   "source": [
    "### 💭 Thoughts on Large Document Summary\n",
    "\n",
    "1. Despite leveraging a cloud llm, this still took about 11 minutes to run due to the size of the large document and the context windows size I set (1024). It resulted in 74 calls to Google's gemini model.\n",
    "2. The final result was a combination of high level themes found throughout the document, and any important details from the tail end. I think with some proper prompt engineering, this method could produce a concise summary of large document."
   ]
  }
 ],
 "metadata": {
  "kernelspec": {
   "display_name": "venv",
   "language": "python",
   "name": "python3"
  },
  "language_info": {
   "codemirror_mode": {
    "name": "ipython",
    "version": 3
   },
   "file_extension": ".py",
   "mimetype": "text/x-python",
   "name": "python",
   "nbconvert_exporter": "python",
   "pygments_lexer": "ipython3",
   "version": "3.11.6"
  }
 },
 "nbformat": 4,
 "nbformat_minor": 2
}
