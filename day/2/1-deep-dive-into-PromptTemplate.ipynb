{
 "cells": [
  {
   "cell_type": "code",
   "execution_count": null,
   "metadata": {},
   "outputs": [],
   "source": [
    "!pip install langchain\n",
    "!pip install langchain-core"
   ]
  },
  {
   "cell_type": "markdown",
   "metadata": {},
   "source": [
    "Let's look at a simple prompt with no variables."
   ]
  },
  {
   "cell_type": "code",
   "execution_count": 18,
   "metadata": {},
   "outputs": [
    {
     "data": {
      "text/plain": [
       "PromptTemplate(input_variables=[], template=\"Identify the subject in the following sentence: 'The quick brown fox jumps over the lazy dog.'\\n\\nSubject: \")"
      ]
     },
     "execution_count": 18,
     "metadata": {},
     "output_type": "execute_result"
    }
   ],
   "source": [
    "from langchain.prompts import PromptTemplate\n",
    "\n",
    "# Simple prompt, no variables\n",
    "simple_prompt_template = PromptTemplate.from_template(\n",
    "    \"Identify the subject in the following sentence: 'The quick brown fox jumps over the lazy dog.'\"\n",
    "    \"\\n\\nSubject: \"\n",
    ")\n",
    "simple_prompt_template"
   ]
  },
  {
   "cell_type": "code",
   "execution_count": 19,
   "metadata": {},
   "outputs": [
    {
     "data": {
      "text/plain": [
       "{'name': None,\n",
       " 'input_variables': [],\n",
       " 'input_types': {},\n",
       " 'output_parser': None,\n",
       " 'partial_variables': {},\n",
       " 'template': \"Identify the subject in the following sentence: 'The quick brown fox jumps over the lazy dog.'\\n\\nSubject: \",\n",
       " 'template_format': 'f-string',\n",
       " 'validate_template': False}"
      ]
     },
     "execution_count": 19,
     "metadata": {},
     "output_type": "execute_result"
    }
   ],
   "source": [
    "simple_prompt_template.__dict__"
   ]
  },
  {
   "cell_type": "code",
   "execution_count": 20,
   "metadata": {},
   "outputs": [
    {
     "data": {
      "text/plain": [
       "\"Identify the subject in the following sentence: 'The quick brown fox jumps over the lazy dog.'\\n\\nSubject: \""
      ]
     },
     "execution_count": 20,
     "metadata": {},
     "output_type": "execute_result"
    }
   ],
   "source": [
    "# Calling .format() will render as a string\n",
    "simple_prompt_template.format()"
   ]
  },
  {
   "cell_type": "code",
   "execution_count": 21,
   "metadata": {},
   "outputs": [
    {
     "data": {
      "text/plain": [
       "StringPromptValue(text=\"Identify the subject in the following sentence: 'The quick brown fox jumps over the lazy dog.'\\n\\nSubject: \")"
      ]
     },
     "execution_count": 21,
     "metadata": {},
     "output_type": "execute_result"
    }
   ],
   "source": [
    "# Calling .format_prompt() will return a StringPromptValue\n",
    "simple_prompt_template.format_prompt()"
   ]
  },
  {
   "cell_type": "markdown",
   "metadata": {},
   "source": [
    "Now let's create a prompt with some input variables."
   ]
  },
  {
   "cell_type": "code",
   "execution_count": 22,
   "metadata": {},
   "outputs": [
    {
     "data": {
      "text/plain": [
       "PromptTemplate(input_variables=['piece', 'sentence'], template=\"Identify the {piece} in the following sentence: '{sentence}'\\n\\n{piece}: \")"
      ]
     },
     "execution_count": 22,
     "metadata": {},
     "output_type": "execute_result"
    }
   ],
   "source": [
    "prompt_template = PromptTemplate(\n",
    "    input_variables=[\"sentence\"],\n",
    "    template=(\n",
    "        \"Identify the {piece} in the following sentence: '{sentence}'\"\n",
    "        \"\\n\\n{piece}: \"\n",
    "    ),\n",
    ")\n",
    "prompt_template"
   ]
  },
  {
   "cell_type": "code",
   "execution_count": 23,
   "metadata": {},
   "outputs": [
    {
     "data": {
      "text/plain": [
       "{'name': None,\n",
       " 'input_variables': ['piece', 'sentence'],\n",
       " 'input_types': {},\n",
       " 'output_parser': None,\n",
       " 'partial_variables': {},\n",
       " 'template': \"Identify the {piece} in the following sentence: '{sentence}'\\n\\n{piece}: \",\n",
       " 'template_format': 'f-string',\n",
       " 'validate_template': False}"
      ]
     },
     "execution_count": 23,
     "metadata": {},
     "output_type": "execute_result"
    }
   ],
   "source": [
    "prompt_template.__dict__"
   ]
  },
  {
   "cell_type": "code",
   "execution_count": 24,
   "metadata": {},
   "outputs": [
    {
     "data": {
      "text/plain": [
       "\"Identify the subject in the following sentence: 'Billy kicked the ball.'\\n\\nsubject: \""
      ]
     },
     "execution_count": 24,
     "metadata": {},
     "output_type": "execute_result"
    }
   ],
   "source": [
    "# Again, calling with .format() will render as a string\n",
    "prompt_template.format(piece=\"subject\", sentence=\"Billy kicked the ball.\")"
   ]
  },
  {
   "cell_type": "code",
   "execution_count": 25,
   "metadata": {},
   "outputs": [
    {
     "data": {
      "text/plain": [
       "StringPromptValue(text=\"Identify the subject in the following sentence: 'Billy kicked the ball.'\\n\\nsubject: \")"
      ]
     },
     "execution_count": 25,
     "metadata": {},
     "output_type": "execute_result"
    }
   ],
   "source": [
    "# Calling .format_prompt() will return a StringPromptValue\n",
    "prompt_template.format_prompt(piece=\"subject\", sentence=\"Billy kicked the ball.\")"
   ]
  },
  {
   "cell_type": "markdown",
   "metadata": {},
   "source": [
    "Partial prompts are also supported. For more information on partial functions, see [this article from learnpython.org](https://www.learnpython.org/en/Partial_functions)."
   ]
  },
  {
   "cell_type": "code",
   "execution_count": 26,
   "metadata": {},
   "outputs": [
    {
     "data": {
      "text/plain": [
       "PromptTemplate(input_variables=['sentence'], partial_variables={'piece': 'subject'}, template=\"Identify the {piece} in the following sentence: '{sentence}'\\n\\n{piece}: \")"
      ]
     },
     "execution_count": 26,
     "metadata": {},
     "output_type": "execute_result"
    }
   ],
   "source": [
    "# Can create partial prompts\n",
    "subject_prompt_template = prompt_template.partial(piece=\"subject\")\n",
    "subject_prompt_template"
   ]
  },
  {
   "cell_type": "code",
   "execution_count": 27,
   "metadata": {},
   "outputs": [
    {
     "data": {
      "text/plain": [
       "{'name': None,\n",
       " 'input_variables': ['sentence'],\n",
       " 'input_types': {},\n",
       " 'output_parser': None,\n",
       " 'partial_variables': {'piece': 'subject'},\n",
       " 'template': \"Identify the {piece} in the following sentence: '{sentence}'\\n\\n{piece}: \",\n",
       " 'template_format': 'f-string',\n",
       " 'validate_template': False}"
      ]
     },
     "execution_count": 27,
     "metadata": {},
     "output_type": "execute_result"
    }
   ],
   "source": [
    "subject_prompt_template.__dict__"
   ]
  },
  {
   "cell_type": "code",
   "execution_count": 28,
   "metadata": {},
   "outputs": [
    {
     "data": {
      "text/plain": [
       "\"Identify the subject in the following sentence: 'Butterflies are beautiful.'\\n\\nsubject: \""
      ]
     },
     "execution_count": 28,
     "metadata": {},
     "output_type": "execute_result"
    }
   ],
   "source": [
    "subject_prompt_template.format(sentence=\"Butterflies are beautiful.\")"
   ]
  },
  {
   "cell_type": "markdown",
   "metadata": {},
   "source": [
    "----\n",
    "Everything past this part is optional, I am only playing around with the `PromptTemplate` with the `mistral-7b-openorca` model.\n",
    "\n",
    "If you plan to run this code, take a look at [this notebook from day 1](../1/2-load-mistral-7b-model.ipynb)."
   ]
  },
  {
   "cell_type": "code",
   "execution_count": 29,
   "metadata": {},
   "outputs": [
    {
     "data": {
      "text/plain": [
       "{'sentence': 'The quick brown fox jumps over the lazy dog.',\n",
       " 'text': ' The quick brown fox'}"
      ]
     },
     "execution_count": 29,
     "metadata": {},
     "output_type": "execute_result"
    }
   ],
   "source": [
    "from langchain_community.llms.gpt4all import GPT4All\n",
    "from langchain_core.output_parsers import StrOutputParser\n",
    "from langchain.chains import LLMChain\n",
    "\n",
    "llm = GPT4All(\n",
    "    model=\"../../models/mistral-7b-openorca.Q4_0.gguf\",\n",
    "    max_tokens=512,\n",
    "    temp=0,\n",
    ")\n",
    "output_parser = StrOutputParser()\n",
    "\n",
    "llm_chain = LLMChain(llm=llm, output_parser=output_parser, prompt=subject_prompt_template)\n",
    "llm_chain({\n",
    "    \"sentence\": \"The quick brown fox jumps over the lazy dog.\"\n",
    "})"
   ]
  },
  {
   "cell_type": "code",
   "execution_count": 30,
   "metadata": {},
   "outputs": [
    {
     "data": {
      "text/plain": [
       "{'piece': 'verb',\n",
       " 'sentence': 'The quick brown fox jumps over the lazy dog.',\n",
       " 'text': ' jumps\\n\\nIn this sentence, \"jumps\" is the action word that describes what the subject (the quick brown fox) is doing. It\\'s important to identify verbs because they help us understand the main idea or action in a sentence.'}"
      ]
     },
     "execution_count": 30,
     "metadata": {},
     "output_type": "execute_result"
    }
   ],
   "source": [
    "llm_chain = LLMChain(llm=llm, output_parser=output_parser, prompt=prompt_template)\n",
    "llm_chain({\n",
    "    \"piece\": \"verb\",\n",
    "    \"sentence\": \"The quick brown fox jumps over the lazy dog.\"\n",
    "})"
   ]
  }
 ],
 "metadata": {
  "kernelspec": {
   "display_name": "venv",
   "language": "python",
   "name": "python3"
  },
  "language_info": {
   "codemirror_mode": {
    "name": "ipython",
    "version": 3
   },
   "file_extension": ".py",
   "mimetype": "text/x-python",
   "name": "python",
   "nbconvert_exporter": "python",
   "pygments_lexer": "ipython3",
   "version": "3.11.6"
  }
 },
 "nbformat": 4,
 "nbformat_minor": 2
}
