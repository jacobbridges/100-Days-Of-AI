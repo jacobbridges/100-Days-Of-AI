{
 "cells": [
  {
   "cell_type": "code",
   "execution_count": null,
   "metadata": {},
   "outputs": [],
   "source": [
    "# Install some dependencies as described in the TinyLlama model card\n",
    "# https://huggingface.co/TinyLlama/TinyLlama-1.1B-Chat-v1.0\n",
    "!pip install git+https://github.com/huggingface/transformers.git\n",
    "!pip install accelerate"
   ]
  },
  {
   "cell_type": "code",
   "execution_count": 2,
   "metadata": {},
   "outputs": [
    {
     "name": "stderr",
     "output_type": "stream",
     "text": [
      "c:\\Users\\Jacob\\dev\\langchain-learning\\100-Days-Of-LangChain\\venv\\Lib\\site-packages\\tqdm\\auto.py:21: TqdmWarning: IProgress not found. Please update jupyter and ipywidgets. See https://ipywidgets.readthedocs.io/en/stable/user_install.html\n",
      "  from .autonotebook import tqdm as notebook_tqdm\n",
      "config.json: 100%|██████████| 608/608 [00:00<?, ?B/s] \n",
      "c:\\Users\\Jacob\\dev\\langchain-learning\\100-Days-Of-LangChain\\venv\\Lib\\site-packages\\huggingface_hub\\file_download.py:149: UserWarning: `huggingface_hub` cache-system uses symlinks by default to efficiently store duplicated files but your machine does not support them in C:\\Users\\Jacob\\.cache\\huggingface\\hub\\models--TinyLlama--TinyLlama-1.1B-Chat-v1.0. Caching files will still work but in a degraded version that might require more space on your disk. This warning can be disabled by setting the `HF_HUB_DISABLE_SYMLINKS_WARNING` environment variable. For more details, see https://huggingface.co/docs/huggingface_hub/how-to-cache#limitations.\n",
      "To support symlinks on Windows, you either need to activate Developer Mode or to run Python as an administrator. In order to see activate developer mode, see this article: https://docs.microsoft.com/en-us/windows/apps/get-started/enable-your-device-for-development\n",
      "  warnings.warn(message)\n",
      "model.safetensors: 100%|██████████| 2.20G/2.20G [00:34<00:00, 64.4MB/s]\n",
      "generation_config.json: 100%|██████████| 124/124 [00:00<?, ?B/s] \n",
      "tokenizer_config.json: 100%|██████████| 1.29k/1.29k [00:00<00:00, 1.31MB/s]\n",
      "tokenizer.model: 100%|██████████| 500k/500k [00:00<00:00, 80.9MB/s]\n",
      "tokenizer.json: 100%|██████████| 1.84M/1.84M [00:00<00:00, 16.2MB/s]\n",
      "special_tokens_map.json: 100%|██████████| 551/551 [00:00<?, ?B/s] \n"
     ]
    }
   ],
   "source": [
    "import torch\n",
    "from transformers import pipeline\n",
    "\n",
    "pipe = pipeline(\"text-generation\", model=\"TinyLlama/TinyLlama-1.1B-Chat-v1.0\", torch_dtype=torch.bfloat16, device_map=\"auto\")"
   ]
  },
  {
   "cell_type": "code",
   "execution_count": 3,
   "metadata": {},
   "outputs": [
    {
     "name": "stdout",
     "output_type": "stream",
     "text": [
      "<|system|>\n",
      "You are a contrarian who always responds with the opposite of what the user says.</s>\n",
      "<|user|>\n",
      "the sky is blue</s>\n",
      "<|assistant|>\n",
      "the sky is often referred to as \"blue\" or \"sky\" because it is a color that is commonly associated with the color blue. While there may be some shades of blue that are not completely blue, the term \"blue\" is often used to describe all colors that are not green or yellow. While there are some shades of blue that are not considered entirely blue, the color blue is often associated with tranquility, calmness, and serenity.\n"
     ]
    }
   ],
   "source": [
    "messages = [\n",
    "    {\n",
    "        \"role\": \"system\",\n",
    "        \"content\": \"You are a contrarian who always responds with the opposite of what the user says.\",\n",
    "    },\n",
    "    {\"role\": \"user\", \"content\": \"the sky is blue\"},\n",
    "]\n",
    "\n",
    "prompt = pipe.tokenizer.apply_chat_template(messages, tokenize=False, add_generation_prompt=True)\n",
    "outputs = pipe(prompt, max_new_tokens=256, do_sample=True, temperature=0.7, top_k=50, top_p=0.95)\n",
    "print(outputs[0][\"generated_text\"])"
   ]
  }
 ],
 "metadata": {
  "kernelspec": {
   "display_name": "venv",
   "language": "python",
   "name": "python3"
  },
  "language_info": {
   "codemirror_mode": {
    "name": "ipython",
    "version": 3
   },
   "file_extension": ".py",
   "mimetype": "text/x-python",
   "name": "python",
   "nbconvert_exporter": "python",
   "pygments_lexer": "ipython3",
   "version": "3.11.6"
  }
 },
 "nbformat": 4,
 "nbformat_minor": 2
}
